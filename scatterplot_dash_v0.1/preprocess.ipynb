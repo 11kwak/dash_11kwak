{
 "cells": [
  {
   "cell_type": "markdown",
   "metadata": {},
   "source": [
    "# scatterplot dash 에 맞게 데이터 전처리하기"
   ]
  },
  {
   "cell_type": "markdown",
   "metadata": {},
   "source": [
    "## 0. import"
   ]
  },
  {
   "cell_type": "code",
   "execution_count": 1,
   "metadata": {},
   "outputs": [],
   "source": [
    "\n",
    "import pandas as pd\n",
    "import time\n",
    "import utils.gis_preprocess as gp  \n",
    "import utils.geocoding as geo\n",
    "\n",
    "df_name = input(\"data 폴더 안에 넣은 csv 파일 이름을 적어주세요(.csv 제외)\")\n",
    "\n",
    "df = pd.read_csv(f\"data/{df_name}.csv\",encoding=\"cp949\")\n"
   ]
  },
  {
   "cell_type": "markdown",
   "metadata": {},
   "source": [
    "==============================================================================================================================================================================="
   ]
  },
  {
   "cell_type": "markdown",
   "metadata": {},
   "source": [
    "## 1. Radio button 필터 2개 만들기 \n",
    "\n",
    "- radio button 필터가 될 컬럼을 지정해주면 컬럼 값의 type에 따라 분류가 가능합니다. 되도록 컬럼 값의 type이 10개 이하인 컬럼을 지정해주세요 \n",
    "- radio 2 변수는 아래의 2번 전처리를 통해 색깔 구분이 가능합니다."
   ]
  },
  {
   "cell_type": "markdown",
   "metadata": {},
   "source": [
    "Radio button 필터를 만들기 위한 전처리를 진행하세요. 필요없다면 안하셔도 됩니다. "
   ]
  },
  {
   "cell_type": "code",
   "execution_count": 2,
   "metadata": {},
   "outputs": [
    {
     "name": "stdout",
     "output_type": "stream",
     "text": [
      "현재 컬럼명 :  Index(['시설물번호', '시설물명', '시설물종별', '시설물종류', '교량 위치 시점', '교량 위치 종점', '설계활하중',\n",
      "       '허용통행하중', '연장 길이', '경간수', '최대 경간장', '폭 보도', '폭 차도', '폭 계', '차로수 상행',\n",
      "       '차로수 하행', '차로수 계', '내진설계적용여부', '상부구조_경간구성 ', '상부구조_대표경간형식',\n",
      "       '상부구조_대표받침종류', '상부구조_대표신축이음종류', '하부통과 제한높이', '상부구조_기타경간형식',\n",
      "       '상부구조_기타받침종류', '상부구조_기타신축이음종류 ', '하부구조_대표교각형식', '하부구조_대표교각기초형식',\n",
      "       '하부구조_대표교대형식', '하부구조_대표교대기초형식', '교대 형식', '교대 기초형식', '하부구조_기타교각형식',\n",
      "       '하부구조_기타교각기초형식', '하부구조_기타교대형식 ', '하부구조_기타교대기초형식 ', '하천해상교량해당여부 ',\n",
      "       '부착시설내용', '기타상세제원'],\n",
      "      dtype='object')\n"
     ]
    }
   ],
   "source": [
    "df = gp.split_address(df)"
   ]
  },
  {
   "cell_type": "markdown",
   "metadata": {},
   "source": [
    "Radio button 필터 컬럼을 지정해주세요"
   ]
  },
  {
   "cell_type": "code",
   "execution_count": 3,
   "metadata": {},
   "outputs": [
    {
     "name": "stdout",
     "output_type": "stream",
     "text": [
      "현재 df의 컬럼들 Index(['시설물번호', '시설물명', '시설물종별', '시설물종류', '교량 위치 시점', '교량 위치 종점', '설계활하중',\n",
      "       '허용통행하중', '연장 길이', '경간수', '최대 경간장', '폭 보도', '폭 차도', '폭 계', '차로수 상행',\n",
      "       '차로수 하행', '차로수 계', '내진설계적용여부', '상부구조_경간구성 ', '상부구조_대표경간형식',\n",
      "       '상부구조_대표받침종류', '상부구조_대표신축이음종류', '하부통과 제한높이', '상부구조_기타경간형식',\n",
      "       '상부구조_기타받침종류', '상부구조_기타신축이음종류 ', '하부구조_대표교각형식', '하부구조_대표교각기초형식',\n",
      "       '하부구조_대표교대형식', '하부구조_대표교대기초형식', '교대 형식', '교대 기초형식', '하부구조_기타교각형식',\n",
      "       '하부구조_기타교각기초형식', '하부구조_기타교대형식 ', '하부구조_기타교대기초형식 ', '하천해상교량해당여부 ',\n",
      "       '부착시설내용', '기타상세제원', '광역시/도', '시/군/구', '동/읍/면', '도로명/지번'],\n",
      "      dtype='object')\n"
     ]
    }
   ],
   "source": [
    "# 꼭 지정해줘야 하는 것\n",
    "print(\"현재 df의 컬럼들\",df.columns)\n",
    "time.sleep(1)\n",
    "radio1 = input(\"radio button 필터 1로 들어갈 컬럼\")\n",
    "time.sleep(1)\n",
    "radio2 = input(\"radio button 필터 2로 들어갈 컬럼\")\n",
    "\n",
    "df[\"radio1\"] = df[f\"{radio1}\"]\n",
    "df[\"radio2\"] = df[f\"{radio2}\"]"
   ]
  },
  {
   "cell_type": "markdown",
   "metadata": {},
   "source": [
    "==============================================================================================================================================================================="
   ]
  },
  {
   "cell_type": "markdown",
   "metadata": {},
   "source": [
    "## 2. Radio button 필터 type에 따른 색깔 지정해주기\n",
    "\n",
    "- OSM 에 띄어질 scatterplot의 색깔을 지정해주세요.  "
   ]
  },
  {
   "cell_type": "code",
   "execution_count": null,
   "metadata": {},
   "outputs": [],
   "source": [
    "df = gp.color_add(df)"
   ]
  },
  {
   "cell_type": "markdown",
   "metadata": {},
   "source": [
    "==============================================================================================================================================================================="
   ]
  },
  {
   "cell_type": "markdown",
   "metadata": {},
   "source": [
    "## 3. hover text 설정해주기\n",
    "\n",
    "- 노드에 마우스를 올리면 나올 말풍선에 들어갈 설명을 넣는 작업입니다. "
   ]
  },
  {
   "cell_type": "code",
   "execution_count": 2,
   "metadata": {},
   "outputs": [
    {
     "name": "stdout",
     "output_type": "stream",
     "text": [
      "현재 컬럼명 :  Index(['시설물번호', '시설물명', '시설물종별', '시설물종류', '교량 위치 시점', '교량 위치 종점', '설계활하중',\n",
      "       '허용통행하중', '연장 길이', '경간수', '최대 경간장', '폭 보도', '폭 차도', '폭 계', '차로수 상행',\n",
      "       '차로수 하행', '차로수 계', '내진설계적용여부', '상부구조_경간구성 ', '상부구조_대표경간형식',\n",
      "       '상부구조_대표받침종류', '상부구조_대표신축이음종류', '하부통과 제한높이', '상부구조_기타경간형식',\n",
      "       '상부구조_기타받침종류', '상부구조_기타신축이음종류 ', '하부구조_대표교각형식', '하부구조_대표교각기초형식',\n",
      "       '하부구조_대표교대형식', '하부구조_대표교대기초형식', '교대 형식', '교대 기초형식', '하부구조_기타교각형식',\n",
      "       '하부구조_기타교각기초형식', '하부구조_기타교대형식 ', '하부구조_기타교대기초형식 ', '하천해상교량해당여부 ',\n",
      "       '부착시설내용', '기타상세제원', 'hovertext'],\n",
      "      dtype='object')\n"
     ]
    },
    {
     "name": "stderr",
     "output_type": "stream",
     "text": [
      "100%|██████████| 12813/12813 [00:17<00:00, 751.01it/s]\n"
     ]
    }
   ],
   "source": [
    "df = gp.col_plus_col(df)"
   ]
  },
  {
   "cell_type": "markdown",
   "metadata": {},
   "source": [
    "==============================================================================================================================================================================="
   ]
  },
  {
   "cell_type": "markdown",
   "metadata": {},
   "source": [
    "## 4. 지오코딩\n",
    "- 카카오 REST API 키가 필요합니다.\n",
    "- 만약 위도 경도가 있는 data라면 진행하지 않아도 됩니다. "
   ]
  },
  {
   "cell_type": "code",
   "execution_count": null,
   "metadata": {},
   "outputs": [],
   "source": [
    "print(df.columns)\n",
    "time.sleep(1)\n",
    "address_name = input(\"데이터 파일에 주소명을 담은 컬럼명을 넣어주세요\")\n",
    "\n",
    "# 주소 컬럼명 지정\n",
    "addr = df[f\"{address_name}\"]\n",
    "\n",
    "# 함수 실행\n",
    "latitude_list, longitude_list = geo.kakao_geocoding_to_list(addr)\n",
    "\n",
    "# df에 저장\n",
    "df[\"위도\"] = latitude_list\n",
    "df[\"경도\"] = longitude_list\n",
    "\n",
    "# 지오코딩에 실패한 열 삭제\n",
    "idx = df[df[\"위도\"]==0].index\n",
    "print(\"##############################################################################################################\")\n",
    "print(\"지오코딩에 실패한 행의 수 :\", len(idx))\n",
    "print(\"지오코딩에 실패한 행의 인덱스 :\", idx)\n",
    "print(\"##############################################################################################################\")\n",
    "\n",
    "# 인덱스 초기화\n",
    "df.drop(idx, inplace=True)\n",
    "df.reset_index(drop=True, inplace=True)\n",
    "\n",
    "df.to_csv(\"data/data.csv\", encoding=\"cp949\")\n",
    "print(\"지오코딩이 성공한 주소의 위도, 경도 컬럼이 추가된 데이터 파일이 저장되었습니다. 파일 이름 : data.csv\")\n"
   ]
  },
  {
   "cell_type": "markdown",
   "metadata": {},
   "source": [
    "radio1\n",
    "radio2\n",
    "색깔add\n",
    "위도\n",
    "경도"
   ]
  }
 ],
 "metadata": {
  "interpreter": {
   "hash": "d60e79b47118bf8d053c30920be263c6b6ca65e525ada8cdf877117bfde307c2"
  },
  "kernelspec": {
   "display_name": "Python 3.7.11 ('data')",
   "language": "python",
   "name": "python3"
  },
  "language_info": {
   "codemirror_mode": {
    "name": "ipython",
    "version": 3
   },
   "file_extension": ".py",
   "mimetype": "text/x-python",
   "name": "python",
   "nbconvert_exporter": "python",
   "pygments_lexer": "ipython3",
   "version": "3.7.11"
  },
  "orig_nbformat": 4
 },
 "nbformat": 4,
 "nbformat_minor": 2
}
