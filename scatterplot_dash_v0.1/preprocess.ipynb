{
 "cells": [
  {
   "cell_type": "markdown",
   "metadata": {},
   "source": [
    "# scatterplot dash 에 맞게 데이터 전처리하기\n",
    "- dash를 실행시키기 위하여 꼭 필요한 \n",
    "nodename,radio1,radio2,색깔add,hovertext,위도,경도"
   ]
  },
  {
   "cell_type": "markdown",
   "metadata": {},
   "source": [
    "## 0. import"
   ]
  },
  {
   "cell_type": "code",
   "execution_count": 1,
   "metadata": {},
   "outputs": [],
   "source": [
    "\n",
    "import pandas as pd\n",
    "import time\n",
    "import utils.gis_preprocess as gp  \n",
    "import utils.geocoding as geo\n",
    "\n",
    "df_name = input(\"data 폴더 안에 넣은 csv 파일 이름을 적어주세요(.csv 제외)\")\n",
    "df = pd.read_csv(f\"data/{df_name}.csv\",encoding=\"cp949\")\n"
   ]
  },
  {
   "cell_type": "markdown",
   "metadata": {},
   "source": [
    "==============================================================================================================================================================================="
   ]
  },
  {
   "cell_type": "markdown",
   "metadata": {},
   "source": [
    "## 1. Radio button 필터 2개 만들기 \n",
    "\n",
    "- radio button 필터가 될 컬럼을 지정해주면 컬럼 값의 type에 따라 분류가 가능합니다. 되도록 컬럼 값의 type이 10개 이하인 컬럼을 지정해주세요 \n",
    "- radio 2 변수는 아래의 2번 전처리를 통해 색깔 구분이 가능합니다."
   ]
  },
  {
   "cell_type": "markdown",
   "metadata": {},
   "source": [
    "Radio button 필터를 만들기 위한 전처리를 진행하세요. 필요없다면 안하셔도 됩니다. "
   ]
  },
  {
   "cell_type": "code",
   "execution_count": null,
   "metadata": {},
   "outputs": [],
   "source": [
    "df = gp.split_address(df)"
   ]
  },
  {
   "cell_type": "markdown",
   "metadata": {},
   "source": [
    "Radio button 필터 컬럼을 지정해주세요"
   ]
  },
  {
   "cell_type": "code",
   "execution_count": null,
   "metadata": {},
   "outputs": [],
   "source": [
    "# 꼭 지정해줘야 하는 것\n",
    "print(\"현재 df의 컬럼들\",df.columns)\n",
    "time.sleep(1)\n",
    "node_name = input(\"시설물명으로 들어갈 컬럼 \")\n",
    "time.sleep(1)\n",
    "radio1 = input(\"radio button 필터 1로 들어갈 컬럼\")\n",
    "time.sleep(1)\n",
    "radio2 = input(\"radio button 필터 2로 들어갈 컬럼\")\n",
    "\n",
    "df[\"nodename\"] = df[f\"{node_name}\"]\n",
    "df[\"radio1\"] = df[f\"{radio1}\"]\n",
    "df[\"radio2\"] = df[f\"{radio2}\"]"
   ]
  },
  {
   "cell_type": "markdown",
   "metadata": {},
   "source": [
    "==============================================================================================================================================================================="
   ]
  },
  {
   "cell_type": "markdown",
   "metadata": {},
   "source": [
    "## 2. Radio button 필터 type에 따른 색깔 지정해주기\n",
    "\n",
    "- OSM 에 띄어질 scatterplot의 색깔을 지정해주세요.  "
   ]
  },
  {
   "cell_type": "code",
   "execution_count": null,
   "metadata": {},
   "outputs": [],
   "source": [
    "df = gp.color_add(df)"
   ]
  },
  {
   "cell_type": "markdown",
   "metadata": {},
   "source": [
    "==============================================================================================================================================================================="
   ]
  },
  {
   "cell_type": "markdown",
   "metadata": {},
   "source": [
    "## 3. hover text 설정해주기\n",
    "\n",
    "- 노드에 마우스를 올리면 나올 말풍선에 들어갈 설명을 넣는 작업입니다. "
   ]
  },
  {
   "cell_type": "code",
   "execution_count": null,
   "metadata": {},
   "outputs": [],
   "source": [
    "df = gp.col_plus_col(df)"
   ]
  },
  {
   "cell_type": "markdown",
   "metadata": {},
   "source": [
    "==============================================================================================================================================================================="
   ]
  },
  {
   "cell_type": "markdown",
   "metadata": {},
   "source": [
    "## 4. 지오코딩\n",
    "- 카카오 REST API 키가 필요합니다.\n",
    "- 만약 위도 경도가 있는 data라면 진행하지 않아도 됩니다. "
   ]
  },
  {
   "cell_type": "code",
   "execution_count": null,
   "metadata": {},
   "outputs": [],
   "source": [
    "df = geo.geocoding_action(df)\n",
    "\n",
    "\n",
    "df.to_csv(\"data/data지오코딩실패삭제안함.csv\", encoding=\"cp949\")"
   ]
  },
  {
   "cell_type": "code",
   "execution_count": null,
   "metadata": {},
   "outputs": [],
   "source": [
    "# 지오코딩에 실패한 열 삭제 및 인덱스 초기화 \n",
    "idx = df[df[\"위도\"]==0].index\n",
    "df.drop(idx, inplace=True)\n",
    "df.reset_index(drop=True, inplace=True)\n",
    "\n",
    "df.to_csv(\"data/data.csv\", encoding=\"cp949\")\n",
    "print(\"지오코딩이 성공한 주소의 위도, 경도 컬럼이 추가된 데이터 파일이 저장되었습니다. 파일 이름 : data.csv\")"
   ]
  },
  {
   "cell_type": "code",
   "execution_count": null,
   "metadata": {},
   "outputs": [],
   "source": [
    "# 결측치 있는거까지 삭제한 df 저장하기 \n",
    "df.dropna(inplace=True)\n",
    "df.reset_index(drop=True,inplace=True) \n",
    "df.to_csv(\"data/data지오코딩실패한거삭제,결측치삭제.csv\", encoding=\"cp949\")"
   ]
  }
 ],
 "metadata": {
  "interpreter": {
   "hash": "d60e79b47118bf8d053c30920be263c6b6ca65e525ada8cdf877117bfde307c2"
  },
  "kernelspec": {
   "display_name": "Python 3.7.11 ('data')",
   "language": "python",
   "name": "python3"
  },
  "language_info": {
   "codemirror_mode": {
    "name": "ipython",
    "version": 3
   },
   "file_extension": ".py",
   "mimetype": "text/x-python",
   "name": "python",
   "nbconvert_exporter": "python",
   "pygments_lexer": "ipython3",
   "version": "3.7.11"
  },
  "orig_nbformat": 4
 },
 "nbformat": 4,
 "nbformat_minor": 2
}
